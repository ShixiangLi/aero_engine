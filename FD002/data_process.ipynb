{
 "cells": [
  {
   "cell_type": "code",
   "execution_count": 1,
   "id": "51466843",
   "metadata": {},
   "outputs": [],
   "source": [
    "import numpy as np\n",
    "import pandas as pd\n",
    "import matplotlib.pyplot as plt\n",
    "import seaborn as sns\n",
    "from sklearn.preprocessing import StandardScaler\n",
    "from scipy.signal import savgol_filter"
   ]
  },
  {
   "cell_type": "code",
   "execution_count": 2,
   "id": "d10d8a48",
   "metadata": {},
   "outputs": [],
   "source": [
    "columns = ['id', 'cycle', 'setting1', 'setting2', 'setting3', 's1', 's2', 's3', 's4', 's5', 's6', 's7', 's8',\n",
    "           's9', 's10', 's11', 's12', 's13', 's14', 's15', 's16', 's17', 's18', 's19', 's20', 's21']\n",
    "\n",
    "feature_columns = ['s1', 's2', 's3', 's4', 's5', 's6', 's7', 's8', 's9', 's10', 's11', 's12', 's13', 's14',\n",
    "                   's15', 's16', 's17', 's18', 's19', 's20', 's21']\n",
    "\n",
    "deleted_engine = [1000]\n",
    "\n",
    "sequence_length = 30"
   ]
  },
  {
   "cell_type": "markdown",
   "id": "19475fe1",
   "metadata": {},
   "source": [
    "# FD002"
   ]
  },
  {
   "cell_type": "markdown",
   "id": "2f3d84a3",
   "metadata": {},
   "source": [
    "### 读取数据、计算RUL、标准化"
   ]
  },
  {
   "cell_type": "code",
   "execution_count": 3,
   "id": "94d14f09",
   "metadata": {},
   "outputs": [],
   "source": [
    "# read train_FD002\n",
    "data = pd.read_csv(\"C-MAPSS-Data\\\\train_FD00\" + '2' + \".txt\", delimiter=\"\\s+\", header=None)\n",
    "data.columns = columns\n",
    "engine_size = max(data['id'])"
   ]
  },
  {
   "cell_type": "code",
   "execution_count": 4,
   "id": "3759eaef",
   "metadata": {},
   "outputs": [
    {
     "name": "stdout",
     "output_type": "stream",
     "text": [
      "      id  max\n",
      "0      1  149\n",
      "1      2  269\n",
      "2      3  206\n",
      "3      4  235\n",
      "4      5  154\n",
      "..   ...  ...\n",
      "255  256  163\n",
      "256  257  309\n",
      "257  258  143\n",
      "258  259  205\n",
      "259  260  316\n",
      "\n",
      "[260 rows x 2 columns]\n"
     ]
    }
   ],
   "source": [
    "# Calculate rul\n",
    "rul = pd.DataFrame(data.groupby('id')['cycle'].max()).reset_index()\n",
    "rul.columns = ['id', 'max']\n",
    "print(rul)\n",
    "data = data.merge(rul, on=['id'], how='left')\n",
    "data['RUL'] = data['max'] - data['cycle']\n",
    "data.drop(['max'], axis=1, inplace=True)"
   ]
  },
  {
   "cell_type": "code",
   "execution_count": 5,
   "id": "4e17c3fc",
   "metadata": {},
   "outputs": [],
   "source": [
    "# Normalize columns other than 'id', 'cycle', 'RUL'\n",
    "std = StandardScaler()\n",
    "data['cycle_norm'] = data['cycle']\n",
    "cols_normalize = data.columns.difference(['id', 'cycle', 'RUL'])\n",
    "norm_data = pd.DataFrame(std.fit_transform(data[cols_normalize]), columns=cols_normalize, index=data.index)\n",
    "join_data = data[data.columns.difference(cols_normalize)].join(norm_data)\n",
    "train_data = join_data.reindex(columns=data.columns)"
   ]
  },
  {
   "cell_type": "code",
   "execution_count": 6,
   "id": "327cb326",
   "metadata": {},
   "outputs": [],
   "source": [
    "# Read the test dataset by the RUL_FD001.txt file.\n",
    "test_data = pd.read_csv(\"C-MAPSS-Data\\\\test_FD00\" + '2' + \".txt\", delimiter=\"\\s+\", header=None)\n",
    "test_data.columns = columns\n",
    "truth_data = pd.read_csv(\"C-MAPSS-Data\\\\RUL_FD00\" + '2' + \".txt\", delimiter=\"\\s+\", header=None)\n",
    "truth_data.columns = ['truth']\n",
    "truth_data['id'] = truth_data.index + 1"
   ]
  },
  {
   "cell_type": "code",
   "execution_count": 7,
   "id": "6a700ead",
   "metadata": {},
   "outputs": [],
   "source": [
    "test_rul = pd.DataFrame(test_data.groupby('id')['cycle'].max()).reset_index()\n",
    "test_rul.columns = ['id', 'elapsed']\n",
    "test_rul = test_rul.merge(truth_data, on=['id'], how='left')\n",
    "test_rul['max'] = test_rul['elapsed'] + test_rul['truth']"
   ]
  },
  {
   "cell_type": "code",
   "execution_count": 8,
   "id": "4be221fd",
   "metadata": {},
   "outputs": [],
   "source": [
    "test_data = test_data.merge(test_rul, on=['id'], how='left')\n",
    "test_data['RUL'] = test_data['max'] - test_data['cycle']\n",
    "test_data.drop(['max'], axis=1, inplace=True)"
   ]
  },
  {
   "cell_type": "code",
   "execution_count": 9,
   "id": "6b197079",
   "metadata": {},
   "outputs": [],
   "source": [
    "test_data['cycle_norm'] = test_data['cycle']\n",
    "norm_test_data = pd.DataFrame(std.transform(test_data[cols_normalize]), columns=cols_normalize,\n",
    "                              index=test_data.index)\n",
    "join_test_data = test_data[test_data.columns.difference(cols_normalize)].join(norm_test_data)\n",
    "test_data = join_test_data.reindex(columns=test_data.columns)"
   ]
  },
  {
   "cell_type": "markdown",
   "id": "0dd80a72",
   "metadata": {},
   "source": [
    "### 数据切片"
   ]
  },
  {
   "cell_type": "code",
   "execution_count": 10,
   "id": "27a710a6",
   "metadata": {},
   "outputs": [
    {
     "data": {
      "text/plain": [
       "(46219, 30, 21)"
      ]
     },
     "execution_count": 10,
     "metadata": {},
     "output_type": "execute_result"
    }
   ],
   "source": [
    "train_feature_list = []\n",
    "for i in range(1, engine_size + 1):\n",
    "    if i in deleted_engine:\n",
    "        continue\n",
    "    selected_feature_data = train_data[train_data['id'] == i][feature_columns].values\n",
    "    # print(selected_feature_data.shape)\n",
    "    for j in range(0, selected_feature_data.shape[0] - sequence_length + 1):\n",
    "        train_feature_list.append(selected_feature_data[j:j + sequence_length, :])\n",
    "train_feature_array = np.array(train_feature_list).astype(np.float32)\n",
    "train_feature_array.shape"
   ]
  },
  {
   "cell_type": "code",
   "execution_count": 11,
   "id": "12309b74",
   "metadata": {},
   "outputs": [
    {
     "data": {
      "text/plain": [
       "(46219, 1)"
      ]
     },
     "execution_count": 11,
     "metadata": {},
     "output_type": "execute_result"
    }
   ],
   "source": [
    "train_label_list = []\n",
    "for i in range(1, engine_size + 1):\n",
    "    if i in deleted_engine:\n",
    "        continue\n",
    "    selected_label_data = train_data[train_data['id'] == i]['RUL'].values\n",
    "    # print(selected_label_data.shape)\n",
    "    for j in range(0, selected_label_data.shape[0] - sequence_length + 1):\n",
    "        train_label_list.append(selected_label_data[j + sequence_length - 1])\n",
    "train_lable_array = np.array(train_label_list).astype(np.float32).reshape(-1, 1)\n",
    "train_lable_array.shape"
   ]
  },
  {
   "cell_type": "code",
   "execution_count": 12,
   "id": "074b3353",
   "metadata": {},
   "outputs": [
    {
     "data": {
      "text/plain": [
       "(26505, 30, 21)"
      ]
     },
     "execution_count": 12,
     "metadata": {},
     "output_type": "execute_result"
    }
   ],
   "source": [
    "test_feature_list = []\n",
    "for i in range(1, engine_size + 1):\n",
    "    if i in deleted_engine:\n",
    "        continue\n",
    "    selected_feature_data = test_data[test_data['id'] == i][feature_columns].values\n",
    "    # print(selected_feature_data.shape)\n",
    "    for j in range(0, selected_feature_data.shape[0] - sequence_length + 1):\n",
    "        test_feature_list.append(selected_feature_data[j:j + sequence_length, :])\n",
    "test_feature_array = np.array(test_feature_list).astype(np.float32)\n",
    "test_feature_array.shape"
   ]
  },
  {
   "cell_type": "code",
   "execution_count": 13,
   "id": "332ebc8a",
   "metadata": {},
   "outputs": [
    {
     "data": {
      "text/plain": [
       "(26505, 1)"
      ]
     },
     "execution_count": 13,
     "metadata": {},
     "output_type": "execute_result"
    }
   ],
   "source": [
    "test_label_list = []\n",
    "for i in range(1, engine_size + 1):\n",
    "    if i in deleted_engine:\n",
    "        continue\n",
    "    selected_label_data = test_data[test_data['id'] == i]['RUL'].values\n",
    "    # print(selected_label_data.shape)\n",
    "    for j in range(0, selected_label_data.shape[0] - sequence_length + 1):\n",
    "        test_label_list.append(selected_label_data[j + sequence_length - 1])\n",
    "test_lable_array = np.array(test_label_list).astype(np.float32).reshape(-1, 1)\n",
    "test_lable_array.shape"
   ]
  },
  {
   "cell_type": "markdown",
   "id": "577d4c2d",
   "metadata": {},
   "source": [
    "### 数据保存"
   ]
  },
  {
   "cell_type": "code",
   "execution_count": 14,
   "id": "72217190",
   "metadata": {},
   "outputs": [],
   "source": [
    "np.save('./data_processed/train_feature.npy', train_feature_array)\n",
    "np.save('./data_processed/train_label.npy', train_lable_array)\n",
    "np.save('./data_processed/test_feature.npy', test_feature_array)\n",
    "np.save('./data_processed/test_label.npy', test_lable_array)"
   ]
  },
  {
   "cell_type": "markdown",
   "id": "5217e053",
   "metadata": {},
   "source": [
    "# 画图"
   ]
  },
  {
   "cell_type": "code",
   "execution_count": null,
   "id": "0ed6ad37",
   "metadata": {},
   "outputs": [],
   "source": [
    "plt.figure(figsize=(11, 7))\n",
    "plt.subplot(221)\n",
    "sns.lineplot(x=\"cycle\", y=\"s2\", data=train_data, color='#0099DD', label='Sensor_2')\n",
    "sns.lineplot(x=\"cycle\", y=\"s3\", data=train_data, color='#FF9933', label='Sensor_3')\n",
    "plt.xlabel('Cycle')\n",
    "plt.ylabel('Feature Normalized Value')\n",
    "plt.legend(loc='upper right')\n",
    "plt.grid()\n",
    "plt.subplot(222)\n",
    "sns.lineplot(x=\"cycle\", y=\"s7\", data=train_data, color= '#0099DD', label='Sensor_7')\n",
    "sns.lineplot(x=\"cycle\", y=\"s21\", data=train_data, color='#FF9933', label='Sensor_21')\n",
    "plt.xlabel('Cycle')\n",
    "plt.ylabel('Feature Normalized Value')\n",
    "plt.legend(loc='upper right')\n",
    "plt.grid()\n",
    "plt.subplot(223)\n",
    "sns.lineplot(x=\"cycle\", y=\"s6\", data=train_data, color='#0099DD', label='Sensor_6')\n",
    "plt.xlabel('Cycle')\n",
    "plt.ylabel('Feature Normalized Value')\n",
    "plt.legend(loc='upper right')\n",
    "plt.grid()\n",
    "plt.subplot(224)\n",
    "sns.lineplot(x=\"cycle\", y=\"s1\", data=train_data, color='#0099DD', label='Sensor_1')\n",
    "sns.lineplot(x=\"cycle\", y=\"s5\", data=train_data, color='#FF9933', label='Sensor_5')\n",
    "plt.xlabel('Cycle')\n",
    "plt.ylabel('Feature Normalized Value')\n",
    "plt.legend(loc='upper right')\n",
    "plt.grid()\n",
    "plt.tight_layout()\n",
    "# plt.savefig(\"D:/workspace/paper/1/figs/features.png\",dpi=600)"
   ]
  },
  {
   "cell_type": "code",
   "execution_count": null,
   "id": "9239a69a",
   "metadata": {},
   "outputs": [],
   "source": [
    "fig = plt.figure(figsize=(5, 3))\n",
    "x = [i for i in range(479-192)]\n",
    "ax1 = fig.add_subplot(111)\n",
    "\n",
    "rul = []\n",
    "feature = train_data.loc[192:478, 's7'].values\n",
    "for d in train_data.loc[192:478, 'RUL']:\n",
    "    if d > 115:\n",
    "        rul.append(115)\n",
    "    else:\n",
    "        rul.append(d)\n",
    "\n",
    "_rul_, = ax1.plot(x,rul,color='#0099DD', label='RUL')\n",
    "ax1.set_ylabel('Cycle Life')\n",
    "ax1.set_xlabel('Cycle')\n",
    "plt.grid()\n",
    "ax2 = ax1.twinx()\n",
    "_feature_, = ax2.plot(x, feature,color='#FF9933', label='Sensor_7')\n",
    "ax2.set_ylabel('Feature value')\n",
    "\n",
    "lns = [_rul_,_feature_]\n",
    "labels = [l.get_label() for l in lns]\n",
    "plt.legend(lns,labels)\n",
    "\n",
    "# plt.savefig(\"D:/workspace/paper/1/figs/RUL_feature.png\",dpi=600)"
   ]
  },
  {
   "cell_type": "code",
   "execution_count": null,
   "id": "d250feba",
   "metadata": {},
   "outputs": [],
   "source": [
    "plt.figure(figsize=(5, 3))\n",
    "sns.lineplot(x=\"cycle\", y=\"s1\", data=train_data)\n",
    "sns.lineplot(x=\"cycle\", y=\"s2\", data=train_data)\n",
    "sns.lineplot(x=\"cycle\", y=\"s3\", data=train_data)\n",
    "sns.lineplot(x=\"cycle\", y=\"s4\", data=train_data)\n",
    "sns.lineplot(x=\"cycle\", y=\"s5\", data=train_data)\n",
    "sns.lineplot(x=\"cycle\", y=\"s6\", data=train_data)\n",
    "sns.lineplot(x=\"cycle\", y=\"s7\", data=train_data)\n",
    "sns.lineplot(x=\"cycle\", y=\"s8\", data=train_data)\n",
    "sns.lineplot(x=\"cycle\", y=\"s9\", data=train_data)\n",
    "sns.lineplot(x=\"cycle\", y=\"s10\", data=train_data)\n",
    "sns.lineplot(x=\"cycle\", y=\"s11\", data=train_data)\n",
    "sns.lineplot(x=\"cycle\", y=\"s12\", data=train_data)\n",
    "plt.grid()\n",
    "plt.xlabel('Cycle')\n",
    "plt.ylabel('Feature Normalized Value')\n",
    "plt.tight_layout()\n",
    "plt.savefig(\"D:/workspace/paper/1/figs/normalized_features.png\",dpi=600)"
   ]
  },
  {
   "cell_type": "code",
   "execution_count": null,
   "id": "514d0f8b",
   "metadata": {},
   "outputs": [],
   "source": [
    "rul = []\n",
    "feature = train_data.loc[192:478, 's17'].values\n",
    "for d in train_data.loc[192:478, 'RUL']:\n",
    "    if d > 115:\n",
    "        rul.append(115)\n",
    "    else:\n",
    "        rul.append(d)\n",
    "plt.figure(figsize=(10, 3))\n",
    "plt.subplot(121)\n",
    "plt.plot(feature, color='#0099DD', label='Sensor_2')\n",
    "plt.xlabel('Cycle')\n",
    "plt.ylabel('Feature Normalized Value')\n",
    "plt.grid()\n",
    "plt.legend()\n",
    "\n",
    "feature = savgol_filter(feature,6,2)\n",
    "\n",
    "plt.subplot(122)\n",
    "plt.plot(feature, color='#FF9933', label='Sensor_2')\n",
    "plt.xlabel('Cycle')\n",
    "plt.ylabel('Feature Normalized Value')\n",
    "plt.grid()\n",
    "plt.legend()\n",
    "plt.tight_layout()\n",
    "\n",
    "plt.savefig(\"D:/workspace/paper/1/figs/denoise_features.png\",dpi=600)"
   ]
  },
  {
   "cell_type": "code",
   "execution_count": null,
   "id": "45d5c83d",
   "metadata": {},
   "outputs": [],
   "source": [
    "current_palette = sns.color_palette('blend:#7AB,#EDA', n_colors=24)\n",
    "plt.figure(figsize=(12, 8))\n",
    "\n",
    "plt.subplot(221)\n",
    "weighted_value=[ -1.3525545291981995, 0.8580708041129999, 0.8432959040345853, 0.8185273692842254, -0.08518421240324271, 0.014344690169709321, 0.8080746736887614, 0.7464706886790279, 0.634078690879124, -1.3525545291981995, 0.8293482132538018, 0.7959397025237085, 0.7769987758394079, 0.6557361651410154, 0.8319090714471812, -0.08518421240324271, 0.8503126509071743, -1.3525545291981995, -1.3525545291981995, 0.8332705563081861, 0.8112508345938821]\n",
    "weights = [w if w >=0 else 0 for w in weighted_value]\n",
    "waters= ['s1', 's2', 's3','s4', 's5', 's6', 's7', 's8', 's9', 's10', 's11', 's12', 's13', 's14', 's15', 's16', 's17', 's18', 's19', 's20', 's21']\n",
    "df = pd.DataFrame({'features':waters, 'importance':weights})\n",
    "df.sort_values(by=['importance'],ascending=True,inplace=True)\n",
    "sns.barplot(x=\"importance\", y=\"features\", data=df, orient='h',palette='Blues')\n",
    "plt.xlabel(\"Mp\")\n",
    "plt.ylabel(\"Sensor\")\n",
    "plt.title(\"FD001\")\n",
    "\n",
    "plt.subplot(222)\n",
    "weighted_value=[ 0.6349856534065781, 0.6345172254497131, 0.7280255036646421, 0.7704532243067866, 0.6532500146918113, 0.635776697712685, 0.6322822645235303, 0.6114007857498442, 0.6549378349486613, 0.6139399959958015, 0.7652670869094798, 0.6338647669024404, 0.06011263052365457, 0.6250947719475386, 0.7146342024839003, 0.4415509624016986, 0.7288263251986141, 0.6421262526277283, 0.047940830293252766, 0.6449865864287931, 0.660358380479112]\n",
    "weights = [w if w >=0 else 0 for w in weighted_value]\n",
    "waters= ['s1', 's2', 's3','s4', 's5', 's6', 's7', 's8', 's9', 's10', 's11', 's12', 's13', 's14', 's15', 's16', 's17', 's18', 's19', 's20', 's21']\n",
    "df = pd.DataFrame({'features':waters, 'importance':weights})\n",
    "df.sort_values(by=['importance'],ascending=True,inplace=True)\n",
    "sns.barplot(x=\"importance\", y=\"features\", data=df, orient='h',palette='Blues')\n",
    "plt.xlabel(\"Mp\")\n",
    "plt.ylabel(\"Sensor\")\n",
    "plt.title(\"FD002\")\n",
    "\n",
    "plt.subplot(223)\n",
    "weighted_value=[-1.5574784656475686, 0.8316110515289997, 0.841343175823377, 0.8285534873681247, -0.09808395402285239, 0.1407054700381496, 0.7127104062989118, 0.6109340608867988, 0.7037998406043584, 0.07869900923286073, 0.770199743253822, 0.6844810775917795, 0.6976549117990988, 0.6692217970981309, 0.7829009830050208, -0.09808395402285239, 0.8066354612199966, -1.5574784656475686, -1.5574784656475686, 0.7671878545340377, 0.7679127656271648]\n",
    "weights = [w if w >=0 else 0 for w in weighted_value]\n",
    "waters= ['s1', 's2', 's3','s4', 's5', 's6', 's7', 's8', 's9', 's10', 's11', 's12', 's13', 's14', 's15', 's16', 's17', 's18', 's19', 's20', 's21']\n",
    "df = pd.DataFrame({'features':waters, 'importance':weights})\n",
    "df.sort_values(by=['importance'],ascending=True,inplace=True)\n",
    "sns.barplot(x=\"importance\", y=\"features\", data=df, orient='h',palette='Blues')\n",
    "plt.xlabel(\"Mp\")\n",
    "plt.ylabel(\"Sensor\")\n",
    "plt.title(\"FD003\")\n",
    "\n",
    "plt.subplot(224)\n",
    "weighted_value=[ 0.5089387560755972, 0.5121675290589925, 0.7240903718579894, 0.7440636647722043, 0.5126518120078876, 0.506333457562931, 0.507563206383561, 0.4776631277837427, 0.6279954541821787, 0.5500065837118352, 0.7234265002200237, 0.5021685035072925, 0.24183469235576593, 0.6264476558593762, 0.6248106457731102, 0.2984575273162594, 0.7227375654379092, 0.47479686150199546, -0.016127577443375733, 0.5089173115135502, 0.5070780838586685]\n",
    "weights = [w if w >=0 else 0 for w in weighted_value]\n",
    "waters= ['s1', 's2', 's3','s4', 's5', 's6', 's7', 's8', 's9', 's10', 's11', 's12', 's13', 's14', 's15', 's16', 's17', 's18', 's19', 's20', 's21']\n",
    "df = pd.DataFrame({'features':waters, 'importance':weights})\n",
    "df.sort_values(by=['importance'],ascending=True,inplace=True)\n",
    "sns.barplot(x=\"importance\", y=\"features\", data=df, orient='h',palette='Blues')\n",
    "plt.xlabel(\"Mp\")\n",
    "plt.ylabel(\"Sensor\")\n",
    "plt.title(\"FD004\")\n",
    "\n",
    "plt.tight_layout()\n",
    "\n",
    "plt.savefig(\"D:/workspace/paper/1/figs/features_select.png\",dpi=600)"
   ]
  },
  {
   "cell_type": "code",
   "execution_count": null,
   "id": "db1a0cfe",
   "metadata": {},
   "outputs": [],
   "source": []
  },
  {
   "cell_type": "code",
   "execution_count": null,
   "id": "20f5473f",
   "metadata": {},
   "outputs": [],
   "source": []
  },
  {
   "cell_type": "code",
   "execution_count": null,
   "id": "875cf446",
   "metadata": {},
   "outputs": [],
   "source": []
  },
  {
   "cell_type": "code",
   "execution_count": null,
   "id": "a287c128",
   "metadata": {},
   "outputs": [],
   "source": []
  },
  {
   "cell_type": "code",
   "execution_count": null,
   "id": "33ffdb20",
   "metadata": {},
   "outputs": [],
   "source": []
  }
 ],
 "metadata": {
  "kernelspec": {
   "display_name": "Python 3 (ipykernel)",
   "language": "python",
   "name": "python3"
  },
  "language_info": {
   "codemirror_mode": {
    "name": "ipython",
    "version": 3
   },
   "file_extension": ".py",
   "mimetype": "text/x-python",
   "name": "python",
   "nbconvert_exporter": "python",
   "pygments_lexer": "ipython3",
   "version": "3.9.13"
  }
 },
 "nbformat": 4,
 "nbformat_minor": 5
}
