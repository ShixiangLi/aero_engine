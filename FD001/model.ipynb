{
 "cells": [
  {
   "cell_type": "code",
   "execution_count": null,
   "id": "eb38c0f7",
   "metadata": {},
   "outputs": [],
   "source": [
    "import numpy as np\n",
    "import matplotlib.pyplot as plt\n",
    "import seaborn as sns\n",
    "import pandas as pd\n",
    "import datetime\n",
    "from tensorflow import keras\n",
    "from tensorflow.keras.layers import Lambda\n",
    "from tensorflow.keras.utils import get_custom_objects\n",
    "import math\n",
    "import tensorflow.keras.backend as K\n",
    "import tensorflow as tf\n",
    "from sklearn.model_selection import train_test_split\n",
    "from keras.utils.vis_utils import plot_model\n",
    "import larq as lq"
   ]
  },
  {
   "cell_type": "code",
   "execution_count": null,
   "id": "c63d4a6d",
   "metadata": {},
   "outputs": [],
   "source": [
    "def root_mean_squared_error(y_true, y_pred):\n",
    "        return K.sqrt(K.mean(K.square(y_pred - y_true),axis=0))##################  axis=0\n",
    "\n",
    "def rmse(predictions, targets):\n",
    "    return np.sqrt(((predictions - targets) ** 2).mean())\n",
    "\n",
    "def unbalanced_penalty_score_1out(Y_test,Y_pred) :\n",
    "\n",
    "    s=0\n",
    "    for i in range(len(Y_pred)):\n",
    "        if Y_pred[i]>Y_test[i]:\n",
    "            s=s+math.exp((Y_pred[i]-Y_test[i])/10)-1\n",
    "        else:\n",
    "            s=s+math.exp((Y_test[i]-Y_pred[i])/13)-1\n",
    "    print('unbalanced_penalty_score{}'.format(s))\n",
    "    return s\n",
    "\n",
    "def error_range_1out(Y_test,Y_pred) :\n",
    "    error_range=(Y_test-Y_pred).min(),(Y_test-Y_pred).max()\n",
    "    print('error range{}'.format(error_range))\n",
    "    return error_range"
   ]
  },
  {
   "cell_type": "code",
   "execution_count": null,
   "id": "a9530a39",
   "metadata": {},
   "outputs": [],
   "source": [
    "segment = 3\n",
    "\n",
    "num_test = 100\n",
    "\n",
    "run_times = 1\n",
    "\n",
    "nb_epochs = 5000\n",
    "batch_size = 1024\n",
    "\n",
    "patience = 100\n",
    "patience_reduce_lr = 20\n",
    "\n",
    "num_filter1 = 32\n",
    "num_filter2 = 64\n",
    "num_filter3 = 32\n",
    "\n",
    "kernel1_size = 16\n",
    "kernel2_size = 10\n",
    "kernel3_size = 6"
   ]
  },
  {
   "cell_type": "code",
   "execution_count": null,
   "id": "0c959f42",
   "metadata": {},
   "outputs": [],
   "source": [
    "method_name='grid_FD{}_TaNet_num_test{}_segment_{}'.format('1',num_test,segment)\n",
    "# method_name='FCN_RUL_1out_train_split_test'\n",
    "dataset='cmapssd'\n",
    "model_name='{}_dataset_{}_log{}_time{}'.format(method_name,dataset,'x',datetime.datetime.now().strftime('%Y%m%d%H%M%S'))"
   ]
  },
  {
   "cell_type": "code",
   "execution_count": null,
   "id": "408bf9f7",
   "metadata": {},
   "outputs": [],
   "source": [
    "sequence_length=31\n",
    "FD_feature_columns=[ 's2', 's3', 's4', 's6', 's7', 's8', 's9', 's11', 's12', 's13', 's14', 's15', 's17', 's20', 's21']"
   ]
  },
  {
   "cell_type": "code",
   "execution_count": null,
   "id": "81a3741d",
   "metadata": {},
   "outputs": [],
   "source": [
    "train_feature_slice = np.load(\"./data_processed/train_feature.npy\")\n",
    "train_label_slice = np.load(\"./data_processed/train_label.npy\")\n",
    "test_feature_slice = np.load(\"./data_processed/test_feature.npy\")\n",
    "test_label_slice = np.load(\"./data_processed/test_label.npy\")\n",
    "train_feature_slice.shape, train_label_slice.shape, test_feature_slice.shape, test_label_slice.shape"
   ]
  },
  {
   "cell_type": "code",
   "execution_count": null,
   "id": "92d3edf9",
   "metadata": {},
   "outputs": [],
   "source": [
    "X_train=np.reshape(train_feature_slice,(-1,train_feature_slice.shape[1],1,train_feature_slice.shape[2]))\n",
    "train_label_slice[train_label_slice>125]=125\n",
    "Y_train=train_label_slice\n",
    "\n",
    "X_train.shape, Y_train.shape"
   ]
  },
  {
   "cell_type": "code",
   "execution_count": null,
   "id": "3c11a4bd",
   "metadata": {},
   "outputs": [],
   "source": [
    "X_test=np.reshape(test_feature_slice,(-1,test_feature_slice.shape[1],1,test_feature_slice.shape[2]))\n",
    "test_label_slice[test_label_slice>125]=125\n",
    "Y_test=test_label_slice\n",
    "\n",
    "X_test.shape, Y_test.shape"
   ]
  },
  {
   "cell_type": "code",
   "execution_count": null,
   "id": "e44bded5",
   "metadata": {},
   "outputs": [],
   "source": [
    "kwargs = dict(\n",
    "              kernel_quantizer=\"ste_sign\",\n",
    "              kernel_constraint=\"weight_clip\",\n",
    "              # input_quantizer='weight_clip'\n",
    "              )\n",
    "in0 = keras.Input(shape=(X_train.shape[1], X_train.shape[2], X_train.shape[3]),\n",
    "                  name='layer_20')\n",
    "x1 = keras.layers.AveragePooling2D(pool_size=(int(sequence_length / segment), 1),\n",
    "                                  strides=int(sequence_length / segment), name='layer_19')(in0)\n",
    "x2 = keras.layers.MaxPooling2D(pool_size=(int(sequence_length / segment), 1),\n",
    "                                  strides=int(sequence_length / segment), name='layer_18')(in0)\n",
    "x = x1 + x2\n",
    "x = keras.layers.Reshape((-1,))(x)\n",
    "x = lq.layers.QuantDense(len(FD_feature_columns) // 1, use_bias=False, activation=keras.activations.relu,\n",
    "                         **kwargs)(x)\n",
    "kernel = lq.layers.QuantDense(len(FD_feature_columns), use_bias=False,\n",
    "                              activation=keras.activations.sigmoid, name='layer_17', **kwargs)(x)\n",
    "begin_senet = keras.layers.Multiply(name='layer_16')([in0, kernel])\n",
    "conv0 = lq.layers.QuantConv1D(32, 3, strides=1, padding='same', dilation_rate=1, name='layer_15', **kwargs)(begin_senet)\n",
    "conv0 = keras.layers.BatchNormalization()(conv0)\n",
    "conv0 = keras.layers.Activation('relu', name='layer_14')(conv0)\n",
    "conv0 = lq.layers.QuantConv1D(64, 3, strides=1, padding='same', dilation_rate=2, name='layer_13', **kwargs)(conv0)\n",
    "conv0 = keras.layers.BatchNormalization()(conv0)\n",
    "conv0 = keras.layers.Activation('relu', name='layer_12')(conv0)\n",
    "conv0 = lq.layers.QuantConv1D(len(FD_feature_columns), 3, strides=1, padding='same', dilation_rate=4, name='layer_11', **kwargs)(conv0)\n",
    "conv0 = keras.layers.BatchNormalization()(conv0)\n",
    "conv0 = keras.layers.Activation('relu', name='layer_10')(conv0)\n",
    "conv0 = conv0 + begin_senet\n",
    "conv0 = lq.layers.QuantConv1D(32, 3, strides=1, padding='same', name='layer_9')(conv0)\n",
    "conv0 = keras.layers.BatchNormalization()(conv0)\n",
    "conv0 = keras.layers.Activation('relu', name='layer_8')(conv0)\n",
    "conv0 = lq.layers.QuantConv1D(64, 3, strides=1, padding='same', name='layer_7')(conv0)\n",
    "conv0 = keras.layers.BatchNormalization()(conv0)\n",
    "conv0 = keras.layers.Activation('relu', name='layer_6')(conv0)\n",
    "conv0 = lq.layers.QuantConv1D(32, 3, strides=1, padding='same', name='layer_5')(conv0)\n",
    "conv0 = keras.layers.BatchNormalization()(conv0)\n",
    "conv0 = keras.layers.Activation('relu', name='layer_4')(conv0)\n",
    "conv0 = keras.layers.GlobalAveragePooling2D(name='layer_3')(conv0)\n",
    "conv0 = lq.layers.QuantDense(16, activation='relu', name='layer_2')(conv0)\n",
    "out = lq.layers.QuantDense(1, activation='relu', name='layer_1')(conv0)\n",
    "model = keras.models.Model(inputs=in0, outputs=[out])"
   ]
  },
  {
   "cell_type": "code",
   "execution_count": null,
   "id": "b9cb22ac",
   "metadata": {},
   "outputs": [],
   "source": [
    "lq.models.summary(model)"
   ]
  },
  {
   "cell_type": "code",
   "execution_count": null,
   "id": "435789ec",
   "metadata": {},
   "outputs": [],
   "source": [
    "optimizer = keras.optimizers.Adam()"
   ]
  },
  {
   "cell_type": "code",
   "execution_count": null,
   "id": "9a2b262a",
   "metadata": {},
   "outputs": [],
   "source": [
    "model.compile(loss='mse',#loss=root_mean_squared_error,\n",
    "              optimizer=optimizer,\n",
    "              metrics=[root_mean_squared_error])"
   ]
  },
  {
   "cell_type": "code",
   "execution_count": null,
   "id": "57c4aa78",
   "metadata": {},
   "outputs": [],
   "source": [
    "reduce_lr = keras.callbacks.ReduceLROnPlateau(monitor = 'loss', factor=0.5,\n",
    "                  patience=patience_reduce_lr, min_lr=0.0001)"
   ]
  },
  {
   "cell_type": "code",
   "execution_count": null,
   "id": "e9edc5a5",
   "metadata": {},
   "outputs": [],
   "source": [
    "earlystopping=keras.callbacks.EarlyStopping(monitor='val_root_mean_squared_error',patience=patience,verbose=1)\n",
    "modelcheckpoint=keras.callbacks.ModelCheckpoint(monitor='val_root_mean_squared_error',filepath=\"./model/FCN_RUL_1out_train_valid_test/{}.h5\".format(model_name),save_best_only=True,verbose=1)"
   ]
  },
  {
   "cell_type": "code",
   "execution_count": null,
   "id": "cee15c51",
   "metadata": {
    "scrolled": true
   },
   "outputs": [],
   "source": [
    "hist = model.fit(X_train, Y_train, batch_size=batch_size, epochs=nb_epochs,\n",
    "          verbose=1, validation_data=(X_test, Y_test), callbacks = [reduce_lr,earlystopping,modelcheckpoint])"
   ]
  },
  {
   "cell_type": "code",
   "execution_count": null,
   "id": "c96425ed",
   "metadata": {},
   "outputs": [],
   "source": [
    "print(hist.history.keys())\n",
    "epochs=range(len(hist.history['loss']))\n",
    "plt.figure()\n",
    "plt.plot(epochs,hist.history['loss'],'b',label='Training loss')\n",
    "plt.plot(epochs,hist.history['val_loss'],'r',label='Validation val_loss')\n",
    "plt.title('Traing and Validation loss')\n",
    "plt.legend()\n",
    "plt.show()"
   ]
  },
  {
   "cell_type": "code",
   "execution_count": null,
   "id": "9fbb8b99",
   "metadata": {},
   "outputs": [],
   "source": [
    "model=keras.models.load_model(\"./model/FCN_RUL_1out_train_valid_test/{}.h5\".format(model_name),custom_objects={'root_mean_squared_error': root_mean_squared_error})\n",
    "for layer in model.layers:\n",
    "    layer.trainable=False\n",
    "\n",
    "Y_pred=model.predict(X_test)\n",
    "Y_pred = np.where(Y_pred > 125, 125, Y_pred)\n",
    "rmse_value=rmse(Y_test,Y_pred)\n",
    "print('rmse:{}'.format(rmse_value))"
   ]
  },
  {
   "cell_type": "code",
   "execution_count": null,
   "id": "d92714de",
   "metadata": {},
   "outputs": [],
   "source": [
    "unbalanced_penalty_score=unbalanced_penalty_score_1out(Y_test,Y_pred)\n",
    "error_range=error_range_1out(Y_test,Y_pred)"
   ]
  },
  {
   "cell_type": "code",
   "execution_count": null,
   "id": "bdb50430",
   "metadata": {},
   "outputs": [],
   "source": [
    "pred, real = [], []\n",
    "for i in range(len(Y_test)-1):\n",
    "    if Y_test[i+1] > Y_test[i]:\n",
    "        pred.append(Y_pred[i])\n",
    "        real.append(Y_test[i])\n",
    "pred = np.array(pred)\n",
    "real = np.array(real)\n",
    "unbalanced_penalty_score_1out(pred,real)"
   ]
  },
  {
   "cell_type": "markdown",
   "id": "ce8bcdcb",
   "metadata": {},
   "source": [
    "# 画图"
   ]
  },
  {
   "cell_type": "code",
   "execution_count": null,
   "id": "b682ad49",
   "metadata": {},
   "outputs": [],
   "source": [
    "import matplotlib.pyplot as plt\n",
    "from matplotlib import rcParams\n",
    "\n",
    "config = {\n",
    "            \"font.family\": 'serif',\n",
    "            \"font.size\": 20,# 相当于小四大小\n",
    "            \"mathtext.fontset\": 'stix',#matplotlib渲染数学字体时使用的字体，和Times New Roman差别不大\n",
    "            \"font.serif\": ['Times New Roman'],#宋体\n",
    "            'axes.unicode_minus': False # 处理负号，即-号\n",
    "         }\n",
    "rcParams.update(config)"
   ]
  },
  {
   "cell_type": "code",
   "execution_count": null,
   "id": "0fb8f501",
   "metadata": {},
   "outputs": [],
   "source": [
    "np.savetxt('FD001_pred.txt',pred,fmt='%d',delimiter=None)\n",
    "np.savetxt('FD001_real.txt',real,fmt='%d',delimiter=None)"
   ]
  },
  {
   "cell_type": "code",
   "execution_count": null,
   "id": "8a5bf09f",
   "metadata": {},
   "outputs": [],
   "source": [
    "fig, ax = plt.subplots(figsize=(8,2))\n",
    "plt.plot(pred, color='#156CB3', label='pred_RUL')\n",
    "plt.plot(real, color='#F49F05', label='real_RUL')\n",
    "plt.grid()\n",
    "plt.legend()\n",
    "plt.title('FD001')\n",
    "plt.xlabel(\"Engine No\")\n",
    "plt.ylabel(\"RUL\")\n",
    "# plt.savefig(\"D:/workspace/paper/1/figs/FD001_res.png\", bbox_inches='tight',dpi=600)"
   ]
  },
  {
   "cell_type": "code",
   "execution_count": null,
   "id": "0a82c59a",
   "metadata": {},
   "outputs": [],
   "source": [
    "np.save('./size.npy', res)"
   ]
  },
  {
   "cell_type": "code",
   "execution_count": null,
   "id": "9eed24a1",
   "metadata": {},
   "outputs": [],
   "source": [
    "res = np.load('./size.npy')\n",
    "res = np.where(res > 115, 115, res)\n",
    "labels = ['3.72Mb', '2.15Mb', '0.12Mb']\n",
    "colors = ['#156CB3','#F49F05','#03A64A']\n",
    "for i in range(len(res)):\n",
    "    plt.plot(res[i][4522:4794],'.-', color=colors[i],label=labels[i])\n",
    "    plt.title(\"FD001_#42\")\n",
    "    plt.grid()\n",
    "    plt.xlabel(\"Cycles\")\n",
    "    plt.ylabel(\"RUL\")\n",
    "plt.plot(Y_test[4522:4794], label='real_RUL', color='#D92525')\n",
    "plt.xticks(fontsize=\"20\")\n",
    "plt.yticks(fontsize=\"20\")\n",
    "plt.legend(loc='lower left', fontsize=\"20\")\n",
    "plt.xlabel('Cycles', fontsize=\"20\")\n",
    "plt.ylabel('RUL', fontsize=\"20\")\n",
    "plt.title('FD001_#42',fontsize=\"20\")\n",
    "# plt.grid()\n",
    "plt.savefig(\"D:/workspace/paper/1/figs/FD001_#42_size.png\", bbox_inches='tight',dpi=600)"
   ]
  },
  {
   "cell_type": "code",
   "execution_count": null,
   "id": "90a763fb",
   "metadata": {},
   "outputs": [],
   "source": [
    "s = np.load('./size.npy')\n",
    "res.append(s[-1])\n",
    "np.save('./opt.npy', res)"
   ]
  },
  {
   "cell_type": "code",
   "execution_count": null,
   "id": "e07f3446",
   "metadata": {},
   "outputs": [],
   "source": [
    "res = np.load('./opt.npy')+10\n",
    "res = np.where(res > 125, 125, res)\n",
    "labels = ['No_optimizer', 'BCTA_only', 'BCTA+BTCN']\n",
    "colors = ['#156CB3','#F49F05','#03A64A']\n",
    "for i in range(len(res)):\n",
    "    plt.plot(res[i][4522:4794],'.-', color=colors[i],label=labels[i])\n",
    "    plt.title(\"FD001_#42\")\n",
    "    plt.grid()\n",
    "    plt.xlabel(\"Cycles\")\n",
    "    plt.ylabel(\"RUL\")\n",
    "plt.plot(Y_test[4522:4794], label='real_RUL', color='#D92525')\n",
    "plt.xticks(fontsize=\"20\")\n",
    "plt.yticks(fontsize=\"20\")\n",
    "plt.legend(loc='lower left', fontsize=\"20\")\n",
    "plt.xlabel('Cycles', fontsize=\"20\")\n",
    "plt.ylabel('RUL', fontsize=\"20\")\n",
    "plt.title('FD001_#42',fontsize=\"20\")\n",
    "plt.savefig(\"D:/workspace/paper/1/figs/FD001_#42_opt_125.png\", bbox_inches='tight',dpi=600)"
   ]
  },
  {
   "cell_type": "code",
   "execution_count": null,
   "id": "e47a3775",
   "metadata": {},
   "outputs": [],
   "source": [
    "representation_model = tf.keras.Model(inputs=model.inputs, outputs=model.get_layer('layer_17').output)"
   ]
  },
  {
   "cell_type": "code",
   "execution_count": null,
   "id": "b6c05778",
   "metadata": {},
   "outputs": [],
   "source": [
    "cycles = []\n",
    "for i in range(len(Y_test)-1):\n",
    "    if Y_test[i] > Y_test[i-1]:\n",
    "        cycles.append(i)\n",
    "len(cycles)"
   ]
  },
  {
   "cell_type": "code",
   "execution_count": null,
   "id": "12b1afee",
   "metadata": {},
   "outputs": [],
   "source": [
    "res = representation_model.predict(X_train)\n",
    "data = res.mean(axis=0).reshape(15,1)"
   ]
  },
  {
   "cell_type": "code",
   "execution_count": null,
   "id": "ddb29512",
   "metadata": {},
   "outputs": [],
   "source": [
    "s = np.where(res >= 0.3, 1, 0)\n",
    "data = []\n",
    "for i in range(len(cycles)-1):\n",
    "    cur = s[cycles[i]:cycles[i+1],:]\n",
    "    data.append(cur.mean(axis=0))\n",
    "data = np.squeeze(np.array(data))"
   ]
  },
  {
   "cell_type": "code",
   "execution_count": null,
   "id": "9b38ff6e",
   "metadata": {},
   "outputs": [],
   "source": [
    "np.savetxt('example.csv', data, delimiter=',')"
   ]
  },
  {
   "cell_type": "code",
   "execution_count": null,
   "id": "27c6266f",
   "metadata": {},
   "outputs": [],
   "source": [
    "plt.figure(figsize=(16, 4))\n",
    "sns.boxplot(data=data, palette=\"Blues\")\n",
    "plt.grid()"
   ]
  },
  {
   "cell_type": "code",
   "execution_count": null,
   "id": "c8a971ab",
   "metadata": {},
   "outputs": [],
   "source": [
    "data = np.array([[9.7551495e-02],\n",
    "       [2.2458841e-01],\n",
    "       [3.2795912e-01],\n",
    "       [8.7800506e-04],\n",
    "       [1.5283097e-01],\n",
    "       [6.8548906e-01],\n",
    "       [1.5941867e-01],\n",
    "       [9.7184944e-01],\n",
    "       [4.2998475e-01],\n",
    "       [7.5283670e-01],\n",
    "       [2.5214184e-02],\n",
    "       [9.4165720e-02],\n",
    "       [4.8141783e-01],\n",
    "       [8.1823915e-01],\n",
    "       [1.3626677e-01]])"
   ]
  },
  {
   "cell_type": "code",
   "execution_count": null,
   "id": "7bd8470f",
   "metadata": {},
   "outputs": [],
   "source": [
    "data = np.array([0 if i < 0.3 else 1 for i in data]).reshape(15,1)"
   ]
  },
  {
   "cell_type": "code",
   "execution_count": null,
   "id": "19ef2a6a",
   "metadata": {},
   "outputs": [],
   "source": [
    "fig, ax = plt.subplots(figsize=(2,4))\n",
    "heatmap = sns.heatmap(data, cbar=True, ax=ax, annot=True, fmt='.2f', cmap=\"Blues\", annot_kws={'rotation': 0})\n",
    "cbar = heatmap.collections[0].colorbar\n",
    "heatmap.set_xticklabels(heatmap.get_xticklabels(), rotation=90)\n",
    "cbar.ax.set_yticklabels(cbar.ax.get_yticklabels(), rotation=90, va='center')\n",
    "plt.yticks([i + 0.5 for i in range(len(FD_feature_columns))], FD_feature_columns, rotation=0)\n",
    "plt.tight_layout()\n",
    "plt.title(\"FD001\")\n",
    "# plt.savefig(\"D:/workspace/paper/1/figs/test_features_weight_FD001_#2.png\",dpi=600, bbox_inches='tight')"
   ]
  },
  {
   "cell_type": "code",
   "execution_count": null,
   "id": "75bf32e7",
   "metadata": {},
   "outputs": [],
   "source": []
  }
 ],
 "metadata": {
  "kernelspec": {
   "display_name": "Python 3 (ipykernel)",
   "language": "python",
   "name": "python3"
  },
  "language_info": {
   "codemirror_mode": {
    "name": "ipython",
    "version": 3
   },
   "file_extension": ".py",
   "mimetype": "text/x-python",
   "name": "python",
   "nbconvert_exporter": "python",
   "pygments_lexer": "ipython3",
   "version": "3.9.6"
  }
 },
 "nbformat": 4,
 "nbformat_minor": 5
}
